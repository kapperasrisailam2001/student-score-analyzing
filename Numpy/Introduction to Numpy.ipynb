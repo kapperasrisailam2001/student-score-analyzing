{
 "cells": [
  {
   "cell_type": "code",
   "execution_count": 4,
   "id": "408a266c-c281-4a26-8d8a-7ec93a68cf3a",
   "metadata": {},
   "outputs": [
    {
     "name": "stdout",
     "output_type": "stream",
     "text": [
      "[20 30 40]\n",
      "[60 70 80]\n",
      "[1200 2100 3200]\n"
     ]
    }
   ],
   "source": [
    "import numpy as np\n",
    "# numpy array is are different then list\n",
    "# list can store different data types but not in arrays\n",
    "# by using numpy array we can perform mathematical operations\n",
    "a = np.array([20,30,40])\n",
    "b = np.array([60,70,80])\n",
    "print(a)\n",
    "print(b)\n",
    "print(a*b)"
   ]
  },
  {
   "cell_type": "code",
   "execution_count": 3,
   "id": "952bcd43-42b0-4226-96ce-03d366d6e4b5",
   "metadata": {},
   "outputs": [
    {
     "name": "stdout",
     "output_type": "stream",
     "text": [
      "['40' '50' '60']\n"
     ]
    }
   ],
   "source": [
    "a  = np.array([40,50,\"60\"])\n",
    "print(a)"
   ]
  },
  {
   "cell_type": "code",
   "execution_count": 1,
   "id": "1f96d76a-cfb1-4acc-90ca-32c021e425f9",
   "metadata": {},
   "outputs": [
    {
     "name": "stdout",
     "output_type": "stream",
     "text": [
      "[20, 30, 40, 50, 60, 70]\n"
     ]
    }
   ],
   "source": [
    "# normal list operations\n",
    "l1 = [20,30,40]\n",
    "l2 = [50,60,70]\n",
    "print(l1+l2)"
   ]
  },
  {
   "cell_type": "code",
   "execution_count": null,
   "id": "27a6bf51-e92a-45d7-ad93-2c20c1d4984f",
   "metadata": {},
   "outputs": [],
   "source": []
  }
 ],
 "metadata": {
  "kernelspec": {
   "display_name": "Python 3 (ipykernel)",
   "language": "python",
   "name": "python3"
  },
  "language_info": {
   "codemirror_mode": {
    "name": "ipython",
    "version": 3
   },
   "file_extension": ".py",
   "mimetype": "text/x-python",
   "name": "python",
   "nbconvert_exporter": "python",
   "pygments_lexer": "ipython3",
   "version": "3.12.3"
  }
 },
 "nbformat": 4,
 "nbformat_minor": 5
}
