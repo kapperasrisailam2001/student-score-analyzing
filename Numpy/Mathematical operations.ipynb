{
 "cells": [
  {
   "cell_type": "markdown",
   "id": "040876de-d300-42a7-8aa3-9181bc46a538",
   "metadata": {},
   "source": [
    "#Functions\n",
    "\n",
    "> g = a-b  np.substract(a,b)\n",
    ">\n",
    "> b + a  p.add(b,a)\n",
    ">\n",
    "> a/b   np.divide(a,b)\n",
    "\n",
    "\n",
    "> a*b   np.multiply(a,b)\n",
    "> \n",
    "> np.exp(b)\n",
    "> \n",
    "> np.sqrt(b)\n",
    "> \n",
    "> np.pow(a)"
   ]
  },
  {
   "cell_type": "code",
   "execution_count": 4,
   "id": "745c7d94-a1d4-48e6-b52b-d88151c6a35d",
   "metadata": {},
   "outputs": [
    {
     "name": "stdout",
     "output_type": "stream",
     "text": [
      "[[60 80]\n",
      " [40 30]]\n",
      "[[60 80]\n",
      " [40 30]]\n"
     ]
    }
   ],
   "source": [
    "import numpy as np\n",
    "arr1 = np.array([[30,40],[20,10]])\n",
    "arr2 = np.array([[30,40],[20,20]])\n",
    "print(arr1+arr2)\n",
    "print(np.add(arr1,arr2))\n"
   ]
  },
  {
   "cell_type": "code",
   "execution_count": null,
   "id": "bfbe6756-6367-47aa-8334-9cf4ea7c6f5b",
   "metadata": {},
   "outputs": [],
   "source": []
  }
 ],
 "metadata": {
  "kernelspec": {
   "display_name": "Python 3 (ipykernel)",
   "language": "python",
   "name": "python3"
  },
  "language_info": {
   "codemirror_mode": {
    "name": "ipython",
    "version": 3
   },
   "file_extension": ".py",
   "mimetype": "text/x-python",
   "name": "python",
   "nbconvert_exporter": "python",
   "pygments_lexer": "ipython3",
   "version": "3.12.3"
  }
 },
 "nbformat": 4,
 "nbformat_minor": 5
}
