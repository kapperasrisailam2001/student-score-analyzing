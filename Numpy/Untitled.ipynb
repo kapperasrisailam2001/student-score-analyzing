{
 "cells": [
  {
   "cell_type": "code",
   "execution_count": 12,
   "id": "82077630-2022-4c43-a89e-8d5dbb0956c6",
   "metadata": {},
   "outputs": [
    {
     "name": "stdout",
     "output_type": "stream",
     "text": [
      "[[10 20 30]\n",
      " [50 60 70]]\n"
     ]
    }
   ],
   "source": [
    "import numpy as np\n",
    "\n",
    "arr = np.array([[10,20,30,40],[50,60,70,80],[20,40,60,80]])\n",
    "# numpber of columns must be same in each row \n",
    "\n",
    "print(arr[0:2,0:3])\n"
   ]
  },
  {
   "cell_type": "code",
   "execution_count": 11,
   "id": "b5b009db-0f63-4bbf-8b1a-70d597e6b900",
   "metadata": {},
   "outputs": [
    {
     "name": "stdout",
     "output_type": "stream",
     "text": [
      "[10 20 30 40]\n"
     ]
    }
   ],
   "source": [
    "arr2  = np.array([10,20,30,40])\n",
    "print(arr2[:])"
   ]
  },
  {
   "cell_type": "code",
   "execution_count": 17,
   "id": "f94003df-d74a-4a2d-b32c-2842d80e46d4",
   "metadata": {},
   "outputs": [
    {
     "name": "stdout",
     "output_type": "stream",
     "text": [
      "shape of the array : (3, 4)\n",
      "size of the array : 12\n",
      "Number of dimensions : 2\n",
      "data type : int32\n"
     ]
    }
   ],
   "source": [
    "print(\"shape of the array :\",np.shape(arr))\n",
    "print(\"size of the array :\",np.size(arr))\n",
    "print(\"Number of dimensions :\",np.ndim(arr))\n",
    "print(\"data type :\" ,arr.dtype)"
   ]
  },
  {
   "cell_type": "code",
   "execution_count": null,
   "id": "a46244c8-1d22-4c4b-b157-b7792d99fec2",
   "metadata": {},
   "outputs": [],
   "source": []
  }
 ],
 "metadata": {
  "kernelspec": {
   "display_name": "Python 3 (ipykernel)",
   "language": "python",
   "name": "python3"
  },
  "language_info": {
   "codemirror_mode": {
    "name": "ipython",
    "version": 3
   },
   "file_extension": ".py",
   "mimetype": "text/x-python",
   "name": "python",
   "nbconvert_exporter": "python",
   "pygments_lexer": "ipython3",
   "version": "3.12.3"
  }
 },
 "nbformat": 4,
 "nbformat_minor": 5
}
