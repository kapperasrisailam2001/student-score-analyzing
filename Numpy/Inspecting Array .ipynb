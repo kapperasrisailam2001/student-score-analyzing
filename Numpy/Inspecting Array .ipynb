{
 "cells": [
  {
   "cell_type": "markdown",
   "id": "d0102a10-7f3d-491e-80d1-559d12514301",
   "metadata": {},
   "source": [
    "\n",
    "# Functions :\n",
    "\n",
    "a.shape - Array dimensions ,\n",
    "len(a) - length of array,\n",
    "b.dim - Number of array Dimensions ,\n",
    "e.size - Number of array elements ,\n",
    "b.dtype - Data type of array elements , \n",
    "b.astype(int) - Convert on array to differrent type  \n"
   ]
  },
  {
   "cell_type": "code",
   "execution_count": 15,
   "id": "0a669df4-5760-49e2-995e-723d4495c99f",
   "metadata": {},
   "outputs": [
    {
     "name": "stdout",
     "output_type": "stream",
     "text": [
      "[[30 40 20]\n",
      " [40 30 60]]\n",
      "shape of the aray (2, 3)\n",
      "2\n",
      "size of the array : 6\n",
      "type of the array : <class 'numpy.ndarray'>\n",
      "Data type of the array :  int32\n",
      "[[30. 40. 20.]\n",
      " [40. 30. 60.]]\n"
     ]
    }
   ],
   "source": [
    "import numpy as np\n",
    "a= [[30,40,20],[40,30,60]]\n",
    "\n",
    "# creating a numpy array\n",
    "\n",
    "arr = np.array(a)\n",
    "print(arr)\n",
    "print(\"shape of the aray\",arr.shape)  # rows,columns\n",
    "print(len(a))  # numbere of listed values\n",
    "print(\"size of the elements :\",np.size(arr)) # number of elements\n",
    "print(\"type of the variable:\",type(arr))   #type of the variable\n",
    "print(\"Data type of the array : \",arr.dtype)  #data type of array\n",
    "print(arr.astype(float))  # conversion of variable"
   ]
  },
  {
   "cell_type": "code",
   "execution_count": null,
   "id": "a9200127-42a8-4b77-9503-f912eb8f7a92",
   "metadata": {},
   "outputs": [],
   "source": []
  }
 ],
 "metadata": {
  "kernelspec": {
   "display_name": "Python 3 (ipykernel)",
   "language": "python",
   "name": "python3"
  },
  "language_info": {
   "codemirror_mode": {
    "name": "ipython",
    "version": 3
   },
   "file_extension": ".py",
   "mimetype": "text/x-python",
   "name": "python",
   "nbconvert_exporter": "python",
   "pygments_lexer": "ipython3",
   "version": "3.12.3"
  }
 },
 "nbformat": 4,
 "nbformat_minor": 5
}
