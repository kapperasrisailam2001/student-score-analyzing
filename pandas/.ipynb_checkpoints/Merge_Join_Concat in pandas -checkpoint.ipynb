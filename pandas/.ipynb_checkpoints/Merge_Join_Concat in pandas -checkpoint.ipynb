{
 "cells": [
  {
   "cell_type": "code",
   "execution_count": 15,
   "id": "d7d8ae12-4bcf-414c-baac-61115314abf8",
   "metadata": {},
   "outputs": [
    {
     "name": "stdout",
     "output_type": "stream",
     "text": [
      "  Emp id    Name  Age\n",
      "0    E01     Ram   34\n",
      "1    E02   Shyam   56\n",
      "2    E03   Rahul   23\n",
      "3    E04  Vishal   44\n",
      "4    E05    Ravi   32\n",
      "5    E06    john   36\n",
      "\n",
      "  Emp id  Salary\n",
      "0    E01   45000\n",
      "1    E02   56000\n",
      "2    E03   34000\n",
      "3    E04   30000\n",
      "4    E05   50000\n",
      "5    E06   62000\n"
     ]
    }
   ],
   "source": [
    "import pandas as pd\n",
    "\n",
    "data1 = {\"Emp id\":[\"E01\",\"E02\",\"E03\",\"E04\",\"E05\",\"E06\"],\n",
    "        \"Name\":[\"Ram\",\"Shyam\",\"Rahul\",\"Vishal\",\"Ravi\",\"john\"],\n",
    "        \"Age\":[34,56,23,44,32,36]}\n",
    "\n",
    "data2 = {\"Emp id\":[\"E01\",\"E02\",\"E03\",\"E04\",\"E05\",\"E06\"],\n",
    "        \"Salary\":[45000,56000,34000,30000,50000,62000]}\n",
    "\n",
    "df1 = pd.DataFrame(data1)\n",
    "df2 = pd.DataFrame(data2)\n",
    "print(df1)\n",
    "print()\n",
    "print(df2)"
   ]
  },
  {
   "cell_type": "code",
   "execution_count": 8,
   "id": "4ac92575-47cb-40c8-8f24-4a9caba4be96",
   "metadata": {},
   "outputs": [
    {
     "name": "stdout",
     "output_type": "stream",
     "text": [
      "  Emp id    Name  Age  Salary\n",
      "0    E01     Ram   34   45000\n",
      "1    E02   Shyam   56   56000\n",
      "2    E03   Rahul   23   34000\n",
      "3    E04  Vishal   44   30000\n",
      "4    E05    Ravi   32   50000\n",
      "5    E06    john   36   62000\n"
     ]
    }
   ],
   "source": [
    "print(pd.merge(df1,df2,on = \"Emp id\"))\n"
   ]
  },
  {
   "cell_type": "code",
   "execution_count": 9,
   "id": "6e61e6c6-ac2e-4a2a-9096-f3bee35bb849",
   "metadata": {},
   "outputs": [
    {
     "name": "stdout",
     "output_type": "stream",
     "text": [
      "  Emp id    Name  Age  Salary\n",
      "0    E01     Ram   34   45000\n",
      "1    E02   Shyam   56   56000\n",
      "2    E03   Rahul   23   34000\n",
      "3    E04  Vishal   44   30000\n",
      "4    E05    Ravi   32   50000\n",
      "5    E06    john   36   62000\n"
     ]
    }
   ],
   "source": [
    "print(pd.merge(left = df1,right = df2 ,on = \"Emp id\", how = \"right\"))"
   ]
  },
  {
   "cell_type": "code",
   "execution_count": 17,
   "id": "9ecf8c0e-70ce-476f-8e9a-3db3b679c639",
   "metadata": {},
   "outputs": [
    {
     "ename": "AttributeError",
     "evalue": "module 'pandas' has no attribute 'join'",
     "output_type": "error",
     "traceback": [
      "\u001b[1;31m---------------------------------------------------------------------------\u001b[0m",
      "\u001b[1;31mAttributeError\u001b[0m                            Traceback (most recent call last)",
      "Cell \u001b[1;32mIn[17], line 1\u001b[0m\n\u001b[1;32m----> 1\u001b[0m \u001b[38;5;28mprint\u001b[39m(\u001b[43mpd\u001b[49m\u001b[38;5;241;43m.\u001b[39;49m\u001b[43mjoin\u001b[49m(df1,df2))\n",
      "\u001b[1;31mAttributeError\u001b[0m: module 'pandas' has no attribute 'join'"
     ]
    }
   ],
   "source": [
    "print(pd.join(df1,df2))"
   ]
  },
  {
   "cell_type": "code",
   "execution_count": 12,
   "id": "13d7e6ab-080c-40c3-a374-b304c5ec6ca3",
   "metadata": {},
   "outputs": [],
   "source": [
    "import pandas as pd\n",
    "\n",
    "data1 = {\"Emp id\":[\"E01\",\"E02\",\"E03\",\"E04\",\"E05\",\"E06\"],\n",
    "        \"Name\":[\"Ram\",\"Shyam\",\"Rahul\",\"Vishal\",\"Ravi\",\"john\"],\n",
    "        \"Age\":[34,56,23,44,32,36]}\n",
    "\n",
    "data2 = {\"Emp id\":[\"E07\",\"E08\",\"E09\",\"E10\",\"E11\",\"E12\"],\n",
    "        \"Name\":[\"bittu\",\"chintu\",\"chotu\",\"bunty\",\"golu\",\"karan\"],\n",
    "        \"Age\":[34,56,23,44,32,36]}\n",
    "df1 = pd.DataFrame(data1)\n",
    "df2 = pd.DataFrame(data2)"
   ]
  },
  {
   "cell_type": "code",
   "execution_count": null,
   "id": "931e500f-9d59-4b81-850d-0cbfdba3befe",
   "metadata": {},
   "outputs": [],
   "source": []
  },
  {
   "cell_type": "code",
   "execution_count": 13,
   "id": "41349ecf-40fa-4c95-adb8-64f149b26388",
   "metadata": {},
   "outputs": [
    {
     "name": "stdout",
     "output_type": "stream",
     "text": [
      "  Emp id    Name  Age\n",
      "0    E01     Ram   34\n",
      "1    E02   Shyam   56\n",
      "2    E03   Rahul   23\n",
      "3    E04  Vishal   44\n",
      "4    E05    Ravi   32\n",
      "5    E06    john   36\n",
      "0    E07   bittu   34\n",
      "1    E08  chintu   56\n",
      "2    E09   chotu   23\n",
      "3    E10   bunty   44\n",
      "4    E11    golu   32\n",
      "5    E12   karan   36\n"
     ]
    }
   ],
   "source": [
    "print(pd.concat([df1,df2]))"
   ]
  },
  {
   "cell_type": "code",
   "execution_count": null,
   "id": "12667e8a-0a57-4672-9861-60ba274363dd",
   "metadata": {},
   "outputs": [],
   "source": []
  }
 ],
 "metadata": {
  "kernelspec": {
   "display_name": "Python 3 (ipykernel)",
   "language": "python",
   "name": "python3"
  },
  "language_info": {
   "codemirror_mode": {
    "name": "ipython",
    "version": 3
   },
   "file_extension": ".py",
   "mimetype": "text/x-python",
   "name": "python",
   "nbconvert_exporter": "python",
   "pygments_lexer": "ipython3",
   "version": "3.12.3"
  }
 },
 "nbformat": 4,
 "nbformat_minor": 5
}
