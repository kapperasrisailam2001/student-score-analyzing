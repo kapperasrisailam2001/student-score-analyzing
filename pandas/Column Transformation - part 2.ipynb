{
 "cells": [
  {
   "cell_type": "code",
   "execution_count": 3,
   "id": "b55866e2-fca6-497f-b572-8e5522663ef9",
   "metadata": {},
   "outputs": [
    {
     "name": "stdout",
     "output_type": "stream",
     "text": [
      "  First Name  Last Name  Salary EEID\n",
      "0       ross  tribbiani   20000   E1\n",
      "1     rachel       bing   40000   E2\n",
      "2     monica      green   25000   E7\n",
      "3       joey     geller   60000   E8\n",
      "4   chandler     buffay   23000   E4\n",
      "5     phoebe       bing   45000   E5\n",
      "  First Name  Last Name  Salary EEID    Bonus\n",
      "0       ross  tribbiani   20000   E1   4000.0\n",
      "1     rachel       bing   40000   E2   8000.0\n",
      "2     monica      green   25000   E7   5000.0\n",
      "3       joey     geller   60000   E8  12000.0\n",
      "4   chandler     buffay   23000   E4   4600.0\n",
      "5     phoebe       bing   45000   E5   9000.0\n"
     ]
    }
   ],
   "source": [
    "import pandas as pd\n",
    "\n",
    "data = pd.read_excel(\"practice1.xlsx\")\n",
    "print(data)\n",
    "\n",
    "data[\"Bonus\"] = (data[\"Salary\"]/100)*20\n",
    "print(data)"
   ]
  },
  {
   "cell_type": "code",
   "execution_count": 7,
   "id": "91e62db7-d492-4428-8735-af3cc614cb94",
   "metadata": {},
   "outputs": [
    {
     "name": "stdout",
     "output_type": "stream",
     "text": [
      "     Months\n",
      "0   January\n",
      "1  February\n",
      "2     March\n",
      "3     April\n",
      "     Months Short_Months\n",
      "0   January          Jan\n",
      "1  February          Feb\n",
      "2     March          Mar\n",
      "3     April          Apr\n"
     ]
    }
   ],
   "source": [
    "data = {\"Months\":[\"January\",\"February\",\"March\",\"April\"]}\n",
    "\n",
    "a = pd.DataFrame(data)\n",
    "print(a)\n",
    "\n",
    "def extract(value):\n",
    "    return value[0:3]\n",
    "    \n",
    "a[\"Short_Months\"] = a[\"Months\"].map(extract)\n",
    "print(a)"
   ]
  },
  {
   "cell_type": "code",
   "execution_count": null,
   "id": "ce244459-536d-48a3-886e-4c18194d6a28",
   "metadata": {},
   "outputs": [],
   "source": []
  }
 ],
 "metadata": {
  "kernelspec": {
   "display_name": "Python 3 (ipykernel)",
   "language": "python",
   "name": "python3"
  },
  "language_info": {
   "codemirror_mode": {
    "name": "ipython",
    "version": 3
   },
   "file_extension": ".py",
   "mimetype": "text/x-python",
   "name": "python",
   "nbconvert_exporter": "python",
   "pygments_lexer": "ipython3",
   "version": "3.12.3"
  }
 },
 "nbformat": 4,
 "nbformat_minor": 5
}
