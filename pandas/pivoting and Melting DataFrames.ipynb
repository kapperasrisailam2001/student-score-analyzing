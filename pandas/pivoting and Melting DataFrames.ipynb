{
 "cells": [
  {
   "cell_type": "code",
   "execution_count": 29,
   "id": "895fa12f-b046-4bda-a0a4-afce97a22020",
   "metadata": {},
   "outputs": [
    {
     "name": "stdout",
     "output_type": "stream",
     "text": [
      "   Names Houses Grades\n",
      "0   John    red    3rd\n",
      "1    Ben   blue    8th\n",
      "2  David  green    9th\n",
      "3  Peter    red    8th\n"
     ]
    }
   ],
   "source": [
    "import pandas as pd\n",
    "\n",
    "dict = { #\"Keys\": [\"k1\",\"k2\",\"k1\",\"k2\"],\n",
    "           \"Names\":[\"John\",\"Ben\",\"David\",\"Peter\"],\n",
    "           \"Houses\":[\"red\",\"blue\",\"green\",\"red\"],\n",
    "            \"Grades\":[\"3rd\",\"8th\",\"9th\",\"8th\"]}\n",
    "df = pd.DataFrame(dict)\n",
    "print(df)"
   ]
  },
  {
   "cell_type": "markdown",
   "id": "5ee88132-898a-4d12-b225-82782af4263c",
   "metadata": {},
   "source": [
    "# pivoting of the DataFrame\n",
    "# index , columns , values"
   ]
  },
  {
   "cell_type": "code",
   "execution_count": 28,
   "id": "3d3de9e9-f669-46ba-a56a-7f0a66d4528b",
   "metadata": {},
   "outputs": [
    {
     "name": "stdout",
     "output_type": "stream",
     "text": [
      "      Houses                   Grades                 \n",
      "Names    Ben  David John Peter    Ben David John Peter\n",
      "Keys                                                  \n",
      "k1       NaN  green  red   NaN    NaN   9th  3rd   NaN\n",
      "k2      blue    NaN  NaN   red    8th   NaN  NaN   8th\n"
     ]
    }
   ],
   "source": [
    "print(df.pivot(index = \"Keys\",columns =\"Names\", values = [\"Houses\",\"Grades\"]))"
   ]
  },
  {
   "cell_type": "markdown",
   "id": "557d0987-1bcc-4d67-93de-e9e4def27b91",
   "metadata": {},
   "source": [
    "# melting in  Data frames\n",
    "# melting of two columns"
   ]
  },
  {
   "cell_type": "code",
   "execution_count": 34,
   "id": "e21547b3-90cd-462a-b1e6-5c749a99f91c",
   "metadata": {},
   "outputs": [
    {
     "name": "stdout",
     "output_type": "stream",
     "text": [
      "   Names Houses&Grades  value\n",
      "0   John        Houses    red\n",
      "1    Ben        Houses   blue\n",
      "2  David        Houses  green\n",
      "3  Peter        Houses    red\n",
      "4   John        Grades    3rd\n",
      "5    Ben        Grades    8th\n",
      "6  David        Grades    9th\n",
      "7  Peter        Grades    8th\n"
     ]
    }
   ],
   "source": [
    "print(pd.melt(df,id_vars = [\"Names\"], value_vars = [\"Houses\",\"Grades\"],var_name = \"Houses&Grades\"))"
   ]
  },
  {
   "cell_type": "code",
   "execution_count": null,
   "id": "17b68a46-76f5-4878-b451-33ef876079f9",
   "metadata": {},
   "outputs": [],
   "source": []
  }
 ],
 "metadata": {
  "kernelspec": {
   "display_name": "Python 3 (ipykernel)",
   "language": "python",
   "name": "python3"
  },
  "language_info": {
   "codemirror_mode": {
    "name": "ipython",
    "version": 3
   },
   "file_extension": ".py",
   "mimetype": "text/x-python",
   "name": "python",
   "nbconvert_exporter": "python",
   "pygments_lexer": "ipython3",
   "version": "3.12.3"
  }
 },
 "nbformat": 4,
 "nbformat_minor": 5
}
