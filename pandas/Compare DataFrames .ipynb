{
 "cells": [
  {
   "cell_type": "code",
   "execution_count": 2,
   "id": "89295df7-a45e-43ee-8492-afe133e98b62",
   "metadata": {},
   "outputs": [
    {
     "name": "stdout",
     "output_type": "stream",
     "text": [
      "   Fruits  Price  Quantity\n",
      "0   mango    100        15\n",
      "1  apples    150        10\n",
      "2  banana     50        10\n",
      "3  papaya     35         3\n"
     ]
    }
   ],
   "source": [
    "import pandas as pd\n",
    "\n",
    "dict = {\"Fruits\":[\"mango\",\"apples\",\"banana\",\"papaya\"],\n",
    "       \"Price\":[100,150,50,35],\n",
    "       \"Quantity\":[15,10,10,3]}\n",
    "df1 = pd.DataFrame(dict)\n",
    "print(df1)"
   ]
  },
  {
   "cell_type": "code",
   "execution_count": 4,
   "id": "4f7b6a36-8422-4c3b-a357-058016cd449c",
   "metadata": {},
   "outputs": [
    {
     "name": "stdout",
     "output_type": "stream",
     "text": [
      "   Fruits  Price  Quantity\n",
      "0   mango    120        12\n",
      "1  apples    175        15\n",
      "2  banana     50        10\n",
      "3  papaya     30         5\n"
     ]
    }
   ],
   "source": [
    "df2 = df1.copy()\n",
    "df2.loc[0,\"Price\"]= 120\n",
    "df2.loc[1,\"Price\"] = 175\n",
    "df2.loc[3,\"Price\"]= 30\n",
    "df2.loc[0,\"Quantity\"] =12\n",
    "df2.loc[1,\"Quantity\"] = 15\n",
    "df2.loc[3,\"Quantity\"] = 5\n",
    "print(df2)"
   ]
  },
  {
   "cell_type": "code",
   "execution_count": 10,
   "id": "1d1951f7-dd24-4680-bf6a-31056d08ea25",
   "metadata": {},
   "outputs": [
    {
     "name": "stdout",
     "output_type": "stream",
     "text": [
      "   Price        Quantity      \n",
      "    self  other     self other\n",
      "0  100.0  120.0     15.0  12.0\n",
      "1  150.0  175.0     10.0  15.0\n",
      "3   35.0   30.0      3.0   5.0\n",
      "  Price       Quantity      \n",
      "   self other     self other\n",
      "0   100   120       15    12\n",
      "1   150   175       10    15\n",
      "3    35    30        3     5\n"
     ]
    }
   ],
   "source": [
    "# comparing \n",
    "print(df1.compare(df2))\n",
    "# print(df1.compare(df2,align_axis =0))\n",
    "print(df1.compare(df2,keep_equal =True))"
   ]
  },
  {
   "cell_type": "code",
   "execution_count": 14,
   "id": "ddb85166-8884-417c-a234-2573b9969ac9",
   "metadata": {},
   "outputs": [
    {
     "name": "stdout",
     "output_type": "stream",
     "text": [
      "  Fruits        Price        Quantity      \n",
      "    self other   self  other     self other\n",
      "0    NaN   NaN  100.0  120.0     15.0  12.0\n",
      "1    NaN   NaN  150.0  175.0     10.0  15.0\n",
      "2    NaN   NaN    NaN    NaN      NaN   NaN\n",
      "3    NaN   NaN   35.0   30.0      3.0   5.0\n",
      "\n",
      "   Price        Quantity      \n",
      "    self  other     self other\n",
      "0  100.0  120.0     15.0  12.0\n",
      "1  150.0  175.0     10.0  15.0\n",
      "3   35.0   30.0      3.0   5.0\n"
     ]
    }
   ],
   "source": [
    "# no change values are NaN\n",
    "print(df1.compare(df2,keep_shape =True))\n",
    "print()\n",
    "#  change values only returned\n",
    "print(df1.compare(df2,keep_shape =False))"
   ]
  },
  {
   "cell_type": "code",
   "execution_count": null,
   "id": "46c5b34b-8233-4f3e-b214-a4648d87d42a",
   "metadata": {},
   "outputs": [],
   "source": []
  }
 ],
 "metadata": {
  "kernelspec": {
   "display_name": "Python 3 (ipykernel)",
   "language": "python",
   "name": "python3"
  },
  "language_info": {
   "codemirror_mode": {
    "name": "ipython",
    "version": 3
   },
   "file_extension": ".py",
   "mimetype": "text/x-python",
   "name": "python",
   "nbconvert_exporter": "python",
   "pygments_lexer": "ipython3",
   "version": "3.12.3"
  }
 },
 "nbformat": 4,
 "nbformat_minor": 5
}
